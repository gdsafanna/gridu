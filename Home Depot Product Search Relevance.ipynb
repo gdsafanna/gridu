{
 "cells": [
  {
   "cell_type": "markdown",
   "metadata": {},
   "source": [
    "### Import packages:"
   ]
  },
  {
   "cell_type": "code",
   "execution_count": 1,
   "metadata": {},
   "outputs": [
    {
     "name": "stderr",
     "output_type": "stream",
     "text": [
      "/Users/apolatovskaya/anaconda/lib/python3.6/site-packages/sklearn/cross_validation.py:44: DeprecationWarning: This module was deprecated in version 0.18 in favor of the model_selection module into which all the refactored classes and functions are moved. Also note that the interface of the new CV iterators are different from that of this module. This module will be removed in 0.20.\n",
      "  \"This module will be removed in 0.20.\", DeprecationWarning)\n",
      "/Users/apolatovskaya/anaconda/lib/python3.6/site-packages/sklearn/grid_search.py:43: DeprecationWarning: This module was deprecated in version 0.18 in favor of the model_selection module into which all the refactored classes and functions are moved. This module will be removed in 0.20.\n",
      "  DeprecationWarning)\n"
     ]
    }
   ],
   "source": [
    "import pandas as pd\n",
    "import numpy as np\n",
    "from sklearn.feature_extraction.text import TfidfVectorizer, TfidfTransformer\n",
    "from scipy.sparse import csr_matrix\n",
    "from sklearn.cross_validation import cross_val_score\n",
    "from sklearn.metrics import accuracy_score\n",
    "from sklearn.feature_extraction import stop_words\n",
    "from xgboost import XGBRegressor\n",
    "from sklearn import grid_search\n",
    "import re\n",
    "#from nltk.corpus import wordnet as wn\n",
    "#from nltk.corpus import wordnet_ic\n",
    "#brown_ic = wordnet_ic.ic('ic-brown.dat')\n",
    "from nltk.corpus import stopwords\n",
    "stoplist = stopwords.words('english')\n",
    "stoplist.append('till')\n",
    "import nltk\n",
    "import gensim\n",
    "import matplotlib.pyplot as plt\n",
    "from gensim import models\n",
    "stem=nltk.stem.snowball.SnowballStemmer('english')"
   ]
  },
  {
   "cell_type": "markdown",
   "metadata": {},
   "source": [
    "### Text processing"
   ]
  },
  {
   "cell_type": "code",
   "execution_count": 2,
   "metadata": {
    "collapsed": true
   },
   "outputs": [],
   "source": [
    "repl_dct={}\n",
    "with open('./dicts/replaсement_dict.csv') as rd:\n",
    "    for line in rd:\n",
    "        line=line.strip().split(':')\n",
    "        repl_dct[line[0]]=line[1]\n",
    "def simple_parser(s):\n",
    "    s = re.sub('&amp;', '&', s)\n",
    "    s = re.sub('&nbsp;', '', s)\n",
    "    s = re.sub('&#39;', '', s)\n",
    "    s = s.replace(\"-\",\" \")\n",
    "    s = s.replace(\"+\",\" \")\n",
    "    s = re.sub(r'(?<=[a-zA-Z])\\/(?=[a-zA-Z])', ' ', s)\n",
    "    s = re.sub(r'(?<=\\))(?=[a-zA-Z0-9])', ' ', s) # add space between parentheses and letters\n",
    "    s = re.sub(r'(?<=[a-zA-Z0-9])(?=\\()', ' ', s) # add space between parentheses and letters\n",
    "    s = re.sub(r'(?<=[a-zA-Z][\\.\\,])(?=[a-zA-Z])', ' ', s) # add space after dot or colon between letters\n",
    "    s = re.sub('[^a-zA-Z0-9\\n\\ ]', '', s)\n",
    "    s = re.sub('\"', '', s)\n",
    "    return s\n",
    "\n",
    "### spell corrections in search term.\n",
    "def spell_correction(s):\n",
    "   \n",
    "    s=s.replace(\"ttt\",\"tt\")    \n",
    "    s=s.replace(\"lll\",\"ll\") \n",
    "    s=s.replace(\"nnn\",\"nn\") \n",
    "    s=s.replace(\"rrr\",\"rr\") \n",
    "    s=s.replace(\"sss\",\"ss\") \n",
    "    s=s.replace(\"zzz\",\"zz\")\n",
    "    s=s.replace(\"ccc\",\"cc\")\n",
    "    s=s.replace(\"eee\",\"ee\")\n",
    "\n",
    "    s=s.replace(\"hinges with pishinges with pins\",\"hinges with pins\")    \n",
    "    s=s.replace(\"virtue usa\",\"virtu usa\")\n",
    "    s = re.sub('outdoor(?=[a-rt-z])', 'outdoor ', s)\n",
    "    s=re.sub(r'\\bdim able\\b',\"dimmable\", s) \n",
    "    s=re.sub(r'\\blink able\\b',\"linkable\", s)\n",
    "    s=re.sub(r'\\bm aple\\b',\"maple\", s)\n",
    "    s=s.replace(\"aire acondicionado\", \"air conditioner\")\n",
    "    s=s.replace(\"borsh in dishwasher\", \"bosch dishwasher\")\n",
    "    s=re.sub(r'\\bapt size\\b','appartment size', s)\n",
    "    s=re.sub(r'\\barm[e|o]r max\\b','armormax', s)\n",
    "    s=re.sub(r' ss ',' stainless steel ', s)\n",
    "    s=re.sub(r'\\bmay tag\\b','maytag', s)\n",
    "    s=re.sub(r'\\bback blash\\b','backsplash', s)\n",
    "    s=re.sub(r'\\bbum boo\\b','bamboo', s)\n",
    "    s=re.sub(r'(?<=[0-9] )but\\b','btu', s)\n",
    "    s=re.sub(r'\\bcharbroi l\\b','charbroil', s)\n",
    "    s=re.sub(r'\\bair cond[it]*\\b','air conditioner', s)\n",
    "    s=re.sub(r'\\bscrew conn\\b','screw connector', s)\n",
    "    s=re.sub(r'\\bblack decker\\b','black and decker', s)\n",
    "    s=re.sub(r'\\bchristmas din\\b','christmas dinosaur', s)\n",
    "    s=re.sub(r'\\bdoug fir\\b','douglas fir', s)\n",
    "    s=re.sub(r'\\belephant ear\\b','elephant ears', s)\n",
    "    s=re.sub(r'\\bt emp gauge\\b','temperature gauge', s)\n",
    "    s=re.sub(r'\\bsika felx\\b','sikaflex', s)\n",
    "    s=re.sub(r'\\bsquare d\\b', 'squared', s)\n",
    "    s=re.sub(r'\\bbehring\\b', 'behr', s)\n",
    "    s=re.sub(r'\\bcam\\b', 'camera', s)\n",
    "    s=re.sub(r'\\bjuke box\\b', 'jukebox', s)\n",
    "    s=re.sub(r'\\brust o leum\\b', 'rust oleum', s)\n",
    "    s=re.sub(r'\\bx mas\\b', 'christmas', s)\n",
    "    s=re.sub(r'\\bmeld wen\\b', 'jeld wen', s)\n",
    "    s=re.sub(r'\\bg e\\b', 'ge', s)\n",
    "    s=re.sub(r'\\bmirr edge\\b', 'mirredge', s)\n",
    "    s=re.sub(r'\\bx ontrol\\b', 'control', s)\n",
    "    s=re.sub(r'\\boutler s\\b', 'outlets', s)\n",
    "    s=re.sub(r'\\bpeep hole', 'peephole', s)\n",
    "    s=re.sub(r'\\bwater pik\\b', 'waterpik', s)\n",
    "    s=re.sub(r'\\bwaterpi k\\b', 'waterpik', s)\n",
    "    s=re.sub(r'\\bplex[iy] glass\\b', 'plexiglass', s)\n",
    "    s=re.sub(r'\\bsheet rock\\b', 'sheetrock',s)\n",
    "    s=re.sub(r'\\bgen purp\\b', 'general purpose',s)\n",
    "    s=re.sub(r'\\bquicker crete\\b', 'quikrete',s)\n",
    "    s=re.sub(r'\\bref ridge\\b', 'refrigerator',s)\n",
    "    s=re.sub(r'\\bshark bite\\b', 'sharkbite',s)\n",
    "    s=re.sub(r'\\buni door\\b', 'unidoor',s)\n",
    "    s=re.sub(r'\\bair tit\\b','airtight', s)\n",
    "    s=re.sub(r'\\bde walt\\b','dewalt', s)\n",
    "    s=re.sub(r'\\bwaterpi k\\b','waterpik', s)\n",
    "    s=re.sub(r'\\bsaw za(ll|w)\\b','sawzall', s)\n",
    "    s=re.sub(r'\\blg elec\\b', 'lg', s)\n",
    "    s = re.sub(r'\\bhumming bird\\b', 'hummingbird', s)\n",
    "    s = re.sub(r'\\bde ice(?=r|\\b)', 'deice',s)  \n",
    "    s = re.sub(r'\\bliquid nail\\b', 'liquid nails', s)  \n",
    "    \n",
    "    \n",
    "    s=re.sub(r'\\bdeck over\\b','deckover', s)\n",
    "    s=re.sub(r'\\bcounter sink(?=s|\\b)','countersink', s)\n",
    "    s=re.sub(r'\\bpipes line(?=s|\\b)','pipeline', s)\n",
    "    s=re.sub(r'\\bbook case(?=s|\\b)','bookcase', s)\n",
    "    s=re.sub(r'\\bwalkie talkie\\b','2 pair radio', s)\n",
    "    s=re.sub(r'(?<=^)ks\\b', 'kwikset',s)\n",
    "    s = re.sub('(?<=[0-9])[\\ ]*ft(?=[a-z])', 'ft ', s)\n",
    "    s = re.sub('(?<=[0-9])[\\ ]*mm(?=[a-z])', 'mm ', s)\n",
    "    s = re.sub('(?<=[0-9])[\\ ]*cm(?=[a-z])', 'cm ', s)\n",
    "    s = re.sub('(?<=[0-9])[\\ ]*inch(es)*(?=[a-z])', 'in ', s)\n",
    "    \n",
    "    s = re.sub(r'(?<=[1-9]) pac\\b', 'pack', s)\n",
    " \n",
    "    s = re.sub(r'\\bcfl bulbs\\b', 'cfl light bulbs', s)\n",
    "    s = re.sub(r' cfl(?=$)', ' cfl light bulb', s)\n",
    "    s = re.sub(r'candelabra cfl 4 pack', 'candelabra cfl light bulb 4 pack', s)\n",
    "    s = re.sub(r'\\bthhn(?=$|\\ [0-9]|\\ [a-rtuvx-z])', 'thhn wire', s)\n",
    "    s = re.sub(r'\\bplay ground\\b', 'playground',s)\n",
    "    s = re.sub(r'\\bemt\\b', 'emt electrical metallic tube',s)\n",
    "    s = re.sub(r'\\boutdoor dining se\\b', 'outdoor dining set',s)\n",
    "          \n",
    "    if \"a/c\" in s:\n",
    "        if ('unit' in s) or ('frost' in s) or ('duct' in s) or ('filt' in s) or ('vent' in s) or ('clean' in s) or ('vent' in s) or ('portab' in s):\n",
    "            s=s.replace(\"a/c\",\"air conditioner\")\n",
    "        else:\n",
    "            s=s.replace(\"a/c\",\"ac\")\n",
    "    for word in repl_dct.keys():\n",
    "        s=re.sub(r'\\b'+word+r'\\b',repl_dct[word], s)\n",
    "    return s"
   ]
  },
  {
   "cell_type": "code",
   "execution_count": 3,
   "metadata": {
    "collapsed": true
   },
   "outputs": [],
   "source": [
    "def replace_in_parser(s):\n",
    "    #the first three shared on forum\n",
    "    s=s.replace(\"acccessories\",\"accessories\")\n",
    "    s = re.sub(r'\\bscott\\b', 'scotts', s) #brand\n",
    "    s = re.sub(r'\\borgainzer\\b', 'organizer', s)\n",
    "    s = s.replace(\"craftsm,an\",\"craftsman\")        \n",
    "    s = re.sub(r'depot.com/search=', '', s)\n",
    "    s = re.sub(r'pilers,needlenose', 'pliers, needle nose', s)\n",
    "    s = re.sub(r'\\bmr.', 'mr ', s)\n",
    "    s = re.sub(r'&amp;', '&', s)\n",
    "    s = re.sub('&nbsp;', '', s)\n",
    "    s = re.sub('&#39;', '', s)\n",
    "    s = re.sub(r'(?<=[0-9]),[\\ ]*(?=[0-9])', '', s)\n",
    "    s = s.replace(\";\",\".\")\n",
    "    s = s.replace(\",\",\".\")\n",
    "    s = s.replace(\":\",\". \")\n",
    "    s = s.replace(\"+\",\" \")\n",
    "    s = re.sub(r'\\bU.S.', 'US ', s)\n",
    "    s = s.replace(\" W x \",\" \")\n",
    "    s = s.replace(\" H x \",\" \")\n",
    "    s = re.sub(' [\\#]\\d+[\\-\\d]*[\\,]*', '', s)    \n",
    "    s = re.sub('(?<=[0-9\\%])(?=[A-Z][a-z])', '. ', s) # add dot between number and cap letter\n",
    "    s = re.sub(r'(?<=\\))(?=[a-zA-Z0-9])', ' ', s) # add space between parentheses and letters\n",
    "    s = re.sub(r'(?<=[a-zA-Z0-9])(?=\\()', ' ', s) # add space between parentheses and letters\n",
    "\n",
    "\n",
    "    s = re.sub(r'\\aluminuum\\b', 'aluminum', s)    \n",
    "    s = re.sub(r'\\bgeneral electric','ge', s)\n",
    "    s = s.replace(\"adaptor\",\"adapter\")\n",
    "    s = re.sub(r'\\bfibre', 'fiber', s)\n",
    "    s = re.sub(r'\\bbuilt in\\b', 'builtin',s)\n",
    "    s = re.sub(r'\\bshark bite\\b', 'sharkbite',s)\n",
    "    s = re.sub('barbeque', 'barbecue',s)\n",
    "    s = re.sub(r'\\bbbq\\b', 'barbecue', s)\n",
    "    s = re.sub(r'\\bbathroom[s]*\\b', 'bath', s)\n",
    "    s = re.sub(r'\\bberkeley\\b', 'berkley', s)\n",
    "    s = re.sub(r'\\bbookshelves\\b', 'book shelf', s)\n",
    "    s = re.sub(r'\\bbookshelf\\b', 'book shelf', s)\n",
    "    s = re.sub(r'\\bin line ', ' inline ', s)\n",
    "    s = re.sub(r'round up\\b', ' roundup', s)\n",
    "    s = re.sub(r'\\blg electronics\\b', 'lg', s)\n",
    "    s = re.sub(r'\\bhdtv\\b', 'hd tv', s)\n",
    "    s = re.sub(r'black [and ]*decker', 'black and decker', s)\n",
    "    s = re.sub(r'backer board[s]*', 'backerboard', s)\n",
    "    s = re.sub(r'\\bphillips\\b', 'philips', s)\n",
    "    s = re.sub(r'\\bshower head[s]*\\b', 'showerhead', s)\n",
    "    s = re.sub(r'\\bbull nose\\b', 'bullnose', s)\n",
    "    s = re.sub(r'\\bflood light\\b', 'floodlight', s)\n",
    "    s = re.sub(r'\\barrester\\b', 'arrestor', s)\n",
    "    s = re.sub(r'\\bbi fold\\b', 'bifold', s)\n",
    "    s = re.sub(r'\\bfirepit[s]*\\b', 'fire pit', s)\n",
    "    s = re.sub(r'\\bbed bug[s]*\\b', 'bedbug', s)\n",
    "    s = re.sub(r'\\bhook up[s]*\\b', 'hookup', s)\n",
    "    s = re.sub(r'\\bjig saw[s]*\\b', 'jigsaw', s)\n",
    "    s = re.sub(r'\\bspacesav(?=er[s]*|ing)', 'space sav', s)\n",
    "    s = re.sub(r'\\bwall paper', 'wallpaper', s)\n",
    "    s = re.sub(r'\\bphotocell', 'photo cells', s)\n",
    "    s = re.sub(r'\\bplasti dip\\b', 'plastidip', s)\n",
    "    s = re.sub(r'\\bflexi dip\\b', 'flexidip', s)  \n",
    "    s = re.sub(r'\\bback splash','backsplash', s)\n",
    "    s = re.sub(r'\\bbarstool(?=\\b|s)','bar stool', s)\n",
    "    s = re.sub(r'\\blampholder(?=\\b|s)','lamp holder', s)\n",
    "    s = re.sub(r'\\brainsuit(?=\\b|s)','rain suit', s)\n",
    "    s = re.sub(r'\\bback up\\b','backup', s)\n",
    "    s = re.sub(r'\\bwheel barrow', 'wheelbarrow', s)\n",
    "    s=re.sub(r'\\bsaw horse', 'sawhorse',s)\n",
    "    s=re.sub(r'\\bscrew driver', 'screwdriver',s)\n",
    "    s=re.sub(r'\\bnut driver', 'nutdriver',s)\n",
    "    s=re.sub(r'\\bflushmount', 'flush mount',s)\n",
    "    s=re.sub(r'\\bcooktop(?=\\b|s\\b)', 'cook top',s)\n",
    "    s=re.sub(r'\\bcounter top(?=s|\\b)','countertop', s)    \n",
    "    s=re.sub(r'\\bbacksplash', 'back splash',s)\n",
    "    s=re.sub(r'\\bhandleset', 'handle set',s)\n",
    "    s=re.sub(r'\\bplayset', 'play set',s)\n",
    "    s=re.sub(r'\\bsidesplash', 'side splash',s)\n",
    "    s=re.sub(r'\\bdownlight', 'down light',s)\n",
    "    s=re.sub(r'\\bbackerboard', 'backer board',s)\n",
    "    s=re.sub(r'\\bshoplight', 'shop light',s)\n",
    "    s=re.sub(r'\\bdownspout', 'down spout',s)\n",
    "    s=re.sub(r'\\bpowerhead', 'power head',s)\n",
    "    s=re.sub(r'\\bnightstand', 'night stand',s)\n",
    "    s=re.sub(r'\\bmicro fiber[s]*\\b', 'microfiber', s)\n",
    "    s=re.sub(r'\\bworklight', 'work light',s)\n",
    "    s=re.sub(r'\\blockset', 'lock set',s)\n",
    "    s=re.sub(r'\\bslatwall', 'slat wall',s)\n",
    "    s=re.sub(r'\\btileboard', 'tile board',s)\n",
    "    s=re.sub(r'\\bmoulding', 'molding',s)\n",
    "    s=re.sub(r'\\bdoorstop', 'door stop',s)\n",
    "    s=re.sub(r'\\bwork bench\\b','workbench', s)\n",
    "    s=re.sub(r'\\bweed[\\ ]*eater','weed trimmer', s)\n",
    "    s=re.sub(r'\\bweed[\\ ]*w[h]*acker','weed trimmer', s)\n",
    "    s=re.sub(r'\\bnightlight(?=\\b|s)','night light', s)\n",
    "    s=re.sub(r'\\bheadlamp(?=\\b|s)','head lamp', s)\n",
    "    s=re.sub(r'\\bfiber board','fiberboard', s)\n",
    "    s=re.sub(r'\\bmail box','mailbox', s)\n",
    "    \n",
    "    replace_material_dict={'aluminium': 'aluminum', \n",
    "    'medium density fiberboard': 'mdf',\n",
    "    'high density fiberboard': 'hdf',\n",
    "    'fiber reinforced polymer': 'frp',\n",
    "    'cross linked polyethylene': 'pex',\n",
    "    'poly vinyl chloride': 'pvc', \n",
    "    'thermoplastic rubber': 'tpr', \n",
    "    'poly lactic acid': 'pla', \n",
    "    'acrylonitrile butadiene styrene': 'abs',\n",
    "    'chlorinated poly vinyl chloride': 'cpvc'}\n",
    "    for word in replace_material_dict.keys():\n",
    "        if word in s:\n",
    "            s = s.replace(word, replace_material_dict[word])\n",
    "    for word in repl_dct.keys():\n",
    "        if word in s:\n",
    "            s = s.replace(word, repl_dct[word])\n",
    "    \n",
    "    return s\n",
    "def clean_material(s):\n",
    "    replace_dict={'Medium Density Fiberboard (MDF)':'mdf', 'High Density Fiberboard (HDF)':'hdf',\\\n",
    "    'Fibre Reinforced Polymer (FRP)': 'frp', 'Acrylonitrile Butadiene Styrene (ABS)': 'abs',\\\n",
    "    'Cross-Linked Polyethylene (PEX)':'pex', 'Chlorinated Poly Vinyl Chloride (CPVC)': 'cpvc',\\\n",
    "    'PVC (vinyl)': 'pvc','Thermoplastic rubber (TPR)':'tpr','Poly Lactic Acid (PLA)': 'pla',\\\n",
    "    '100% Polyester':'polyester','100% UV Olefin':'olefin', '100% BCF Polypropylene': 'polypropylene',\\\n",
    "    '100% PVC':'pvc'}        \n",
    "    if s in replace_dict.keys():\n",
    "        s=replace_dict[s]\n",
    "    return s"
   ]
  },
  {
   "cell_type": "markdown",
   "metadata": {},
   "source": [
    "### Loading train and test data and merging it:"
   ]
  },
  {
   "cell_type": "code",
   "execution_count": 4,
   "metadata": {},
   "outputs": [
    {
     "name": "stdout",
     "output_type": "stream",
     "text": [
      "Index(['product_uid', 'product_title', 'search_term', 'relevance'], dtype='object')\n",
      "Index(['product_uid', 'product_title', 'search_term'], dtype='object')\n"
     ]
    },
    {
     "data": {
      "text/html": [
       "<div>\n",
       "<style>\n",
       "    .dataframe thead tr:only-child th {\n",
       "        text-align: right;\n",
       "    }\n",
       "\n",
       "    .dataframe thead th {\n",
       "        text-align: left;\n",
       "    }\n",
       "\n",
       "    .dataframe tbody tr th {\n",
       "        vertical-align: top;\n",
       "    }\n",
       "</style>\n",
       "<table border=\"1\" class=\"dataframe\">\n",
       "  <thead>\n",
       "    <tr style=\"text-align: right;\">\n",
       "      <th></th>\n",
       "      <th>product_title</th>\n",
       "      <th>product_uid</th>\n",
       "      <th>relevance</th>\n",
       "      <th>search_term</th>\n",
       "    </tr>\n",
       "  </thead>\n",
       "  <tbody>\n",
       "    <tr>\n",
       "      <th>0</th>\n",
       "      <td>Simpson Strong-Tie 12-Gauge Angle</td>\n",
       "      <td>100001</td>\n",
       "      <td>3.00</td>\n",
       "      <td>angle bracket</td>\n",
       "    </tr>\n",
       "    <tr>\n",
       "      <th>1</th>\n",
       "      <td>Simpson Strong-Tie 12-Gauge Angle</td>\n",
       "      <td>100001</td>\n",
       "      <td>2.50</td>\n",
       "      <td>l bracket</td>\n",
       "    </tr>\n",
       "    <tr>\n",
       "      <th>2</th>\n",
       "      <td>BEHR Premium Textured DeckOver 1-gal. SC-141 T...</td>\n",
       "      <td>100002</td>\n",
       "      <td>3.00</td>\n",
       "      <td>deck over</td>\n",
       "    </tr>\n",
       "    <tr>\n",
       "      <th>3</th>\n",
       "      <td>Delta Vero 1-Handle Shower Only Faucet Trim Ki...</td>\n",
       "      <td>100005</td>\n",
       "      <td>2.33</td>\n",
       "      <td>rain shower head</td>\n",
       "    </tr>\n",
       "    <tr>\n",
       "      <th>4</th>\n",
       "      <td>Delta Vero 1-Handle Shower Only Faucet Trim Ki...</td>\n",
       "      <td>100005</td>\n",
       "      <td>2.67</td>\n",
       "      <td>shower only faucet</td>\n",
       "    </tr>\n",
       "  </tbody>\n",
       "</table>\n",
       "</div>"
      ],
      "text/plain": [
       "                                       product_title  product_uid  relevance  \\\n",
       "0                  Simpson Strong-Tie 12-Gauge Angle       100001       3.00   \n",
       "1                  Simpson Strong-Tie 12-Gauge Angle       100001       2.50   \n",
       "2  BEHR Premium Textured DeckOver 1-gal. SC-141 T...       100002       3.00   \n",
       "3  Delta Vero 1-Handle Shower Only Faucet Trim Ki...       100005       2.33   \n",
       "4  Delta Vero 1-Handle Shower Only Faucet Trim Ki...       100005       2.67   \n",
       "\n",
       "          search_term  \n",
       "0       angle bracket  \n",
       "1           l bracket  \n",
       "2           deck over  \n",
       "3    rain shower head  \n",
       "4  shower only faucet  "
      ]
     },
     "execution_count": 4,
     "metadata": {},
     "output_type": "execute_result"
    }
   ],
   "source": [
    "train=pd.read_csv('train.csv', index_col=0, header=0,encoding=\"ISO-8859-1\")\n",
    "test=pd.read_csv('test.csv', index_col=0, header=0,encoding=\"ISO-8859-1\")\n",
    "print(train.columns)\n",
    "print(test.columns)\n",
    "data = pd.concat((train, test), axis=0, ignore_index=True)\n",
    "data.head()"
   ]
  },
  {
   "cell_type": "markdown",
   "metadata": {},
   "source": [
    "### Cleaning and correction search_term"
   ]
  },
  {
   "cell_type": "code",
   "execution_count": 5,
   "metadata": {
    "collapsed": true,
    "scrolled": true
   },
   "outputs": [],
   "source": [
    "google_dict={}\n",
    "with open ('./dicts/google_dict.csv') as gd:\n",
    "    for line in gd:\n",
    "        line=line.strip().split(':')\n",
    "        google_dict[line[0]]=line[1]\n",
    "data['search_term']=data['search_term'].apply(lambda x: google_dict[x] if x in google_dict.keys() else x)\n",
    "data['search_term']=data['search_term'].apply(lambda x: simple_parser(x))\n",
    "data['search_term']=data['search_term'].apply(lambda x: spell_correction(x))"
   ]
  },
  {
   "cell_type": "markdown",
   "metadata": {},
   "source": [
    "### Loading attributes information. Brand and material and bullet information:"
   ]
  },
  {
   "cell_type": "code",
   "execution_count": 6,
   "metadata": {
    "collapsed": true
   },
   "outputs": [],
   "source": [
    "func={}\n",
    "brands={}\n",
    "materials={}\n",
    "with open('attributes.csv', 'r') as file:\n",
    "    for f in file:\n",
    "        f=f.strip().split(',')\n",
    "        if \"Bullet\" in f[1]:\n",
    "            if f[0] in func.keys():\n",
    "                func[f[0]]+=' '+f[2]\n",
    "            else:\n",
    "                func[f[0]]=f[2]\n",
    "        if \"MFG Brand Name\" in f[1]:\n",
    "            if f[0] in brands.keys():\n",
    "                brands[f[0]]+=' '+f[2]\n",
    "            else:\n",
    "                brands[f[0]]=f[2]\n",
    "        if \"Material\" in f[1]:\n",
    "            if f[0] in materials.keys():\n",
    "                materials[f[0]]+=' '+f[2]\n",
    "            else:\n",
    "                materials[f[0]]=f[2]\n",
    "functionality = pd.Series(func, name='Functionality')\n",
    "brand=pd.Series(brands, name='Brand')\n",
    "material=pd.Series(materials, name='Material')\n",
    "functionality.index.name ='product_uid'\n",
    "brand.index.name ='product_uid'\n",
    "material.index.name ='product_uid'\n",
    "functionality=functionality.reset_index()\n",
    "brand=brand.reset_index()\n",
    "material=material.reset_index()\n",
    "functionality['product_uid']=functionality['product_uid'].apply(lambda x: int(x))\n",
    "brand['product_uid']=brand['product_uid'].apply(lambda x: int(x))\n",
    "material['product_uid']=material['product_uid'].apply(lambda x: int(x))"
   ]
  },
  {
   "cell_type": "markdown",
   "metadata": {},
   "source": [
    "### Merging all data (train-test set, attributes and product description information):"
   ]
  },
  {
   "cell_type": "code",
   "execution_count": 7,
   "metadata": {
    "collapsed": true
   },
   "outputs": [],
   "source": [
    "proddescription=pd.read_csv('product_descriptions.csv',header=0)\n",
    "data= pd.merge(data, proddescription, how='left', on='product_uid')\n",
    "data= pd.merge(data, material, how='left', on='product_uid')\n",
    "data= pd.merge(data, brand, how='left', on='product_uid')\n",
    "data= pd.merge(data, functionality, how='left', on='product_uid')"
   ]
  },
  {
   "cell_type": "markdown",
   "metadata": {},
   "source": [
    "### Cleaning attributes, product description and title"
   ]
  },
  {
   "cell_type": "code",
   "execution_count": 8,
   "metadata": {},
   "outputs": [
    {
     "name": "stdout",
     "output_type": "stream",
     "text": [
      "CPU times: user 11min 3s, sys: 1.95 s, total: 11min 5s\n",
      "Wall time: 11min 6s\n"
     ]
    }
   ],
   "source": [
    "%%time\n",
    "brand_dct={}\n",
    "with open ('./dicts/brand_dict.csv') as bd:\n",
    "    for line in bd:\n",
    "        line=line.strip().split(':')\n",
    "        brand_dct[line[0]]=line[1]\n",
    "def brand_clean(s):\n",
    "    for b in brand_dct.keys():\n",
    "        s=s.replace(b,brand_dct[b])\n",
    "    return s\n",
    "data['Brand']=data['Brand'].apply(lambda x: x[1:-1].lower() if type(x)==str else x)\n",
    "data['Material']=data['Material'].apply(lambda x: x[1:-1] if type(x)==str else x)\n",
    "data['Material']=data['Material'].apply(lambda x: clean_material(x).lower() if type(x)==str else x)\n",
    "data['Functionality']=data['Functionality'].apply(lambda x: x[1:-1] if type(x)==str else x)\n",
    "data['Brand']=data['Brand'].apply(lambda x: brand_dct[x] if x in brand_dct.keys() else x)\n",
    "data['product_title']=data['product_title'].apply(lambda x: simple_parser(x.lower()))\n",
    "data['product_description']=data['product_description'].apply(lambda x: simple_parser(x.lower()) if type(x)==str else x)\n",
    "data['Functionality']=data['Functionality'].apply(lambda x: simple_parser(x.lower()) if type(x)==str else x)\n",
    "data['product_title']=data['product_title'].apply(lambda x: replace_in_parser(x.lower()))\n",
    "data['product_description']=data['product_description'].apply(lambda x: replace_in_parser(x.lower()) if type(x)==str else x)\n",
    "data['Functionality']=data['Functionality'].apply(lambda x: replace_in_parser(x.lower()) if type(x)==str else x)"
   ]
  },
  {
   "cell_type": "markdown",
   "metadata": {},
   "source": [
    "### Stemming and removing stop words in product_title, search_term, product_description, material, brand"
   ]
  },
  {
   "cell_type": "code",
   "execution_count": 9,
   "metadata": {
    "collapsed": true
   },
   "outputs": [],
   "source": [
    "data.Material.fillna('',inplace=True)\n",
    "data.Brand.fillna('',inplace=True)\n",
    "data.Functionality.fillna('',inplace=True)"
   ]
  },
  {
   "cell_type": "code",
   "execution_count": 10,
   "metadata": {},
   "outputs": [
    {
     "name": "stdout",
     "output_type": "stream",
     "text": [
      "!\n",
      "!\n",
      "!\n",
      "CPU times: user 1min 41s, sys: 141 ms, total: 1min 41s\n",
      "Wall time: 1min 41s\n"
     ]
    }
   ],
   "source": [
    "%%time\n",
    "stop_words = ['for', 'and', 'in', 'on','with','what','from','that','less']\n",
    "def spellch(x):\n",
    "    for word in x:\n",
    "        if word in stop_words:\n",
    "            x.remove(word)\n",
    "    return x\n",
    "data['search_term']=data['search_term'].apply(lambda x: spellch(x))\n",
    "for col in ['product_title','product_description','Functionality']:\n",
    "    data[col]=data[col].apply(lambda x: ' '.join([item for item in x.split(' ') if item not in stoplist]) if type(x)==str else x)\n",
    "    print('!')"
   ]
  },
  {
   "cell_type": "code",
   "execution_count": 11,
   "metadata": {},
   "outputs": [
    {
     "name": "stdout",
     "output_type": "stream",
     "text": [
      "CPU times: user 10min 35s, sys: 378 ms, total: 10min 36s\n",
      "Wall time: 10min 36s\n"
     ]
    }
   ],
   "source": [
    "%%time\n",
    "for col in ['product_title','search_term','product_description','Material','Brand','Functionality']:\n",
    "    data[col]=data[col].apply(lambda x: \" \".join([stem.stem(str(word)) for word in x.split(\" \")]) if type(x)==str else x)"
   ]
  },
  {
   "cell_type": "markdown",
   "metadata": {},
   "source": [
    "### Creating variables"
   ]
  },
  {
   "cell_type": "code",
   "execution_count": 12,
   "metadata": {
    "collapsed": true
   },
   "outputs": [],
   "source": [
    "for col in ['product_title','search_term','product_description','Material','Brand','Functionality']:\n",
    "    data[col+'_ug']=data[col].apply(lambda x: x.split())\n",
    "lst1=[]\n",
    "sp=['search_term_ug','product_title_ug','product_description_ug','Functionality_ug','Brand_ug','Material_ug']\n",
    "for l in range(len(data['search_term'])):\n",
    "    q=[]\n",
    "    for j in sp:\n",
    "        q+=data.loc[l,j]\n",
    "    lst1.append(q)"
   ]
  },
  {
   "cell_type": "markdown",
   "metadata": {},
   "source": [
    "### Creating word2vec model and calculating similarity between search_term and another fields"
   ]
  },
  {
   "cell_type": "code",
   "execution_count": 13,
   "metadata": {},
   "outputs": [
    {
     "name": "stdout",
     "output_type": "stream",
     "text": [
      "CPU times: user 23min 5s, sys: 3.23 s, total: 23min 8s\n",
      "Wall time: 7min 52s\n"
     ]
    }
   ],
   "source": [
    "%%time\n",
    "model1 = gensim.models.Word2Vec(lst1, sg=1, window=10, sample=1e-5, negative=5, size=300)"
   ]
  },
  {
   "cell_type": "code",
   "execution_count": 14,
   "metadata": {},
   "outputs": [
    {
     "name": "stdout",
     "output_type": "stream",
     "text": [
      "CPU times: user 2min 58s, sys: 343 ms, total: 2min 59s\n",
      "Wall time: 2min 59s\n"
     ]
    }
   ],
   "source": [
    "%%time\n",
    "sp=['search_term_ug','product_title_ug','product_description_ug','Functionality_ug','Brand_ug','Material_ug']\n",
    "n_similarity=list()\n",
    "st=data['search_term_ug']\n",
    "for s in sp[1:]:\n",
    "    target=data[s]\n",
    "    lst=list()\n",
    "    for i in range(len(st)):\n",
    "        w1=st[i]\n",
    "        w2=target[i]\n",
    "        d1=[]\n",
    "        d2=[]\n",
    "        for j in range(len(w1)):\n",
    "            if w1[j] in model1.wv.vocab:\n",
    "                d1.append(w1[j])\n",
    "        for j in range(len(w2)):\n",
    "            if w2[j] in model1.wv.vocab:\n",
    "                d2.append(w2[j])\n",
    "        if d1==[] or d2==[]:\n",
    "            lst.append(0)\n",
    "        else:    \n",
    "            lst.append(model1.n_similarity(d1,d2))\n",
    "    n_similarity.append(lst)"
   ]
  },
  {
   "cell_type": "code",
   "execution_count": 15,
   "metadata": {
    "collapsed": true
   },
   "outputs": [],
   "source": [
    "var=['product_uid','len_st']\n",
    "for j in range(len(n_similarity)):   \n",
    "    data[\"word2vec_\"+str(sp[j+1])]=n_similarity[j]\n",
    "    var.append(\"word2vec_\"+str(sp[j+1]))"
   ]
  },
  {
   "cell_type": "code",
   "execution_count": 16,
   "metadata": {
    "collapsed": true
   },
   "outputs": [],
   "source": [
    "def DistJaccard(str1, str2):\n",
    "    str1 = set(str1.split())\n",
    "    str2 = set(str2.split())\n",
    "    return float(len(str1 & str2)) / len(str1 | str2)\n",
    "for i in ['product_title','product_description','Brand','Functionality']:\n",
    "    var.append('DJ_st_'+i)\n",
    "    data['DJ_st_'+i]=data[['search_term', i]].apply(lambda x: DistJaccard(x[0],x[1]) if type(x[1])==str else 0, axis=1)"
   ]
  },
  {
   "cell_type": "code",
   "execution_count": 17,
   "metadata": {},
   "outputs": [
    {
     "name": "stdout",
     "output_type": "stream",
     "text": [
      "!\n",
      "!\n",
      "!\n",
      "CPU times: user 1min 56s, sys: 216 ms, total: 1min 56s\n",
      "Wall time: 1min 57s\n"
     ]
    }
   ],
   "source": [
    "%%time\n",
    "for col in ['product_title','product_description','Material']:\n",
    "    #,'Brand','Functionality']:\n",
    "    data['st_full_in_'+col]=data[['search_term', col]].apply(lambda x: len([w for w in x[0].split() if w in x[1].split()]) if type(x[1])==str else 0, axis=1)\n",
    "    data['st_unique_in_'+col]=data[['search_term', col]].apply(lambda x: len(set([w for w in x[0].split() if w in x[1].split()])) if type(x[1])==str else 0, axis=1)\n",
    "    print('!')\n",
    "    var.append('st_full_in_'+col)\n",
    "    var.append('st_unique_in_'+col)\n",
    "data['len_st']=data.search_term.apply(lambda x: len(x.split()))"
   ]
  },
  {
   "cell_type": "code",
   "execution_count": 18,
   "metadata": {},
   "outputs": [
    {
     "name": "stdout",
     "output_type": "stream",
     "text": [
      "!\n",
      "!\n",
      "CPU times: user 38.2 s, sys: 157 ms, total: 38.4 s\n",
      "Wall time: 38.5 s\n"
     ]
    }
   ],
   "source": [
    "%%time\n",
    "data['ratio_st_full_in_product_title']=data[['st_full_in_product_title','product_title_ug']].apply(lambda x: x[0]/len(x[1]), axis=1)\n",
    "var.append('ratio_st_full_in_product_title')\n",
    "data['ratio_st_unique_in_product_title']=data[['st_unique_in_product_title','product_title_ug']].apply(lambda x: x[0]/len(x[1]), axis=1)\n",
    "var.append('ratio_st_unique_in_product_title')\n",
    "print('!')\n",
    "data['ratio_st_full_in_product_description']=data[['st_full_in_product_description','product_description_ug']].apply(lambda x: x[0]/len(x[1]), axis=1)\n",
    "var.append('ratio_st_full_in_product_description')\n",
    "data['ratio_st_unique_in_product_description']=data[['st_unique_in_product_description','product_description_ug']].apply(lambda x: x[0]/len(x[1]), axis=1)\n",
    "var.append('ratio_st_unique_in_product_description')\n",
    "print('!')\n",
    "data['ratio_st_full_in_Material']=data[['st_full_in_Material','Material_ug']].apply(lambda x: x[0]/len(x[1]) if len(x[1])>0 else 0, axis=1)\n",
    "var.append('ratio_st_full_in_Material')\n",
    "#data['ratio_st_unique_in_Material']=data[['st_unique_in_Material','Material_ug']].apply(lambda x: x[0]/len(x[1]) if len(x[1])>0 else 0, axis=1)\n",
    "#var.append('ratio_st_unique_in_Material')\n",
    "\n",
    "#data['ratio_st_full_in_Functionality']=data[['st_full_in_Functionality','Functionality_ug']].apply(lambda x: x[0]/len(x[1]) if len(x[1])>0 else 0, axis=1)\n",
    "#var.append('ratio_st_full_in_Functionality')\n",
    "#data['ratio_st_unique_in_Functionality']=data[['st_unique_in_Functionality','Functionality_ug']].apply(lambda x: x[0]/len(x[1])if len(x[1])>0 else 0, axis=1)\n",
    "#var.append('ratio_st_unique_in_Functionality')\n",
    "\n",
    "#data['ratio_st_full_in_Brand']=data[['st_full_in_Brand','Brand_ug']].apply(lambda x: x[0]/len(x[1]) if len(x[1])>0 else 0, axis=1)\n",
    "#var.append('ratio_st_full_in_Brand')\n",
    "#data['ratio_st_unique_in_Brand']=data[['st_unique_in_Brand','Brand_ug']].apply(lambda x: x[0]/len(x[1]) if len(x[1])>0 else 0, axis=1)\n",
    "#var.append('ratio_st_unique_in_Brand')\n"
   ]
  },
  {
   "cell_type": "code",
   "execution_count": 19,
   "metadata": {},
   "outputs": [
    {
     "name": "stdout",
     "output_type": "stream",
     "text": [
      "!\n",
      "CPU times: user 9min 6s, sys: 1.27 s, total: 9min 7s\n",
      "Wall time: 9min 7s\n"
     ]
    }
   ],
   "source": [
    "%%time\n",
    "#var=list(set(var))\n",
    "st_dct={}\n",
    "ds=data.search_term\n",
    "for i in list(set(ds)):\n",
    "    st_dct[i]=len(ds[ds==i])\n",
    "print('!')\n",
    "data['st_cnt']=data['search_term'].apply(lambda x: st_dct[x])\n",
    "var"
   ]
  },
  {
   "cell_type": "markdown",
   "metadata": {},
   "source": [
    "## TF-IDF features"
   ]
  },
  {
   "cell_type": "code",
   "execution_count": 20,
   "metadata": {
    "collapsed": true
   },
   "outputs": [],
   "source": [
    "tfvt=TfidfVectorizer(stop_words='english')\n",
    "tfvd=TfidfVectorizer(stop_words='english')\n",
    "tfvf=TfidfVectorizer(stop_words='english')\n",
    "\n",
    "title_feats = tfvt.fit_transform(list(set(list(data['product_title'])))) \n",
    "descr_feats = tfvd.fit_transform(list(set(list(data['product_description'])))) \n",
    "functy_feats = tfvf.fit_transform(list(set(list(data['Functionality'])))) \n",
    "\n",
    "tfidft = tfvt.transform(data['search_term']) \n",
    "tfidfd = tfvd.transform(data['search_term']) \n",
    "tfidff = tfvf.transform(data['search_term']) "
   ]
  },
  {
   "cell_type": "code",
   "execution_count": 21,
   "metadata": {
    "collapsed": true
   },
   "outputs": [],
   "source": [
    "l1=np.ones((len(tfvt.get_feature_names()),1))\n",
    "l2=np.ones((len(tfvd.get_feature_names()),1))\n",
    "l3=np.ones((len(tfvf.get_feature_names()),1))\n",
    "data['tfidf_pt']=tfidft.tocsr().dot(l1)\n",
    "data['tfidf_pd']=tfidfd.tocsr().dot(l2)\n",
    "data['tfidf_f']=tfidff.tocsr().dot(l3)\n",
    "var.append('tfidf_pt')\n",
    "var.append('tfidf_pd')\n",
    "var.append('tfidf_f')"
   ]
  },
  {
   "cell_type": "code",
   "execution_count": 39,
   "metadata": {
    "collapsed": true
   },
   "outputs": [],
   "source": [
    "var.append('st_cnt')"
   ]
  },
  {
   "cell_type": "code",
   "execution_count": 40,
   "metadata": {
    "collapsed": true
   },
   "outputs": [],
   "source": [
    "lentr=train.shape[0]\n",
    "data_train=data[:lentr]\n",
    "data_test=data[lentr:]\n",
    "X_train=data_train[var]\n",
    "Y_train=data_train['relevance']\n",
    "X_test=data_test[var]"
   ]
  },
  {
   "cell_type": "code",
   "execution_count": 41,
   "metadata": {},
   "outputs": [
    {
     "data": {
      "text/plain": [
       "dict_keys(['base_score', 'colsample_bylevel', 'colsample_bytree', 'gamma', 'learning_rate', 'max_delta_step', 'max_depth', 'min_child_weight', 'missing', 'n_estimators', 'nthread', 'objective', 'reg_alpha', 'reg_lambda', 'scale_pos_weight', 'seed', 'silent', 'subsample'])"
      ]
     },
     "execution_count": 41,
     "metadata": {},
     "output_type": "execute_result"
    }
   ],
   "source": [
    "#estimator = RandomForestRegressor(random_state=0)\n",
    "xgbr=XGBRegressor(seed=0, learning_rate=0.1,objective='reg:linear')\n",
    "estimator=xgbr\n",
    "#BaggingRegressor(xgbr,random_state=2017)\n",
    "#estimator.fit(X_train,Y_train)\n",
    "estimator.get_params().keys()"
   ]
  },
  {
   "cell_type": "code",
   "execution_count": 42,
   "metadata": {},
   "outputs": [
    {
     "name": "stdout",
     "output_type": "stream",
     "text": [
      "-0.21599807760578782\n",
      "XGBRegressor(base_score=0.5, colsample_bylevel=1, colsample_bytree=1, gamma=0,\n",
      "       learning_rate=0.1, max_delta_step=0, max_depth=4,\n",
      "       min_child_weight=1, missing=None, n_estimators=165, nthread=-1,\n",
      "       objective='reg:linear', reg_alpha=0, reg_lambda=1,\n",
      "       scale_pos_weight=1, seed=0, silent=True, subsample=1)\n",
      "CPU times: user 3min 58s, sys: 1.66 s, total: 4min\n",
      "Wall time: 4min 2s\n"
     ]
    }
   ],
   "source": [
    "%%time\n",
    "params_grid = {\n",
    "    'max_depth':[3,4,5],\n",
    "    #'base_estimator__n_estimators':[10,20,50,70,90],\n",
    "    'n_estimators' : [165,170,175],\n",
    "    #'n_estimators':[2,3,5,10]\n",
    "}\n",
    "grid = grid_search.GridSearchCV(estimator, params_grid, scoring = 'neg_mean_squared_error', cv = 3)\n",
    "grid.fit(X_train,Y_train)\n",
    "print(grid.best_score_)\n",
    "print(grid.best_estimator_)"
   ]
  },
  {
   "cell_type": "code",
   "execution_count": 43,
   "metadata": {
    "collapsed": true
   },
   "outputs": [],
   "source": [
    "estimator=grid.best_estimator_\n",
    "y_test=estimator.predict(X_test)\n",
    "test['relevance']=y_test"
   ]
  },
  {
   "cell_type": "markdown",
   "metadata": {},
   "source": [
    "### Importance of features"
   ]
  },
  {
   "cell_type": "code",
   "execution_count": 44,
   "metadata": {
    "scrolled": false
   },
   "outputs": [
    {
     "data": {
      "image/png": "[encoded data removed]",
      "text/plain": [
       "<matplotlib.figure.Figure at 0x1c8875588>"
      ]
     },
     "metadata": {},
     "output_type": "display_data"
    }
   ],
   "source": [
    "sp = estimator.booster().get_score(importance_type='weight')\n",
    "a=pd.Series(sp, name='imp')\n",
    "a.index.name='feat'\n",
    "a.plot(kind='bar')\n",
    "plt.show()"
   ]
  },
  {
   "cell_type": "code",
   "execution_count": 45,
   "metadata": {
    "collapsed": true
   },
   "outputs": [],
   "source": [
    "test[['relevance']].to_csv('res.csv')"
   ]
  },
  {
   "cell_type": "markdown",
   "metadata": {},
   "source": [
    "### Final score is 0.46530"
   ]
  }
 ],
 "metadata": {
  "kernelspec": {
   "display_name": "Python 3",
   "language": "python",
   "name": "python3"
  },
  "language_info": {
   "codemirror_mode": {
    "name": "ipython",
    "version": 3
   },
   "file_extension": ".py",
   "mimetype": "text/x-python",
   "name": "python",
   "nbconvert_exporter": "python",
   "pygments_lexer": "ipython3",
   "version": "3.6.1"
  }
 },
 "nbformat": 4,
 "nbformat_minor": 2
}
